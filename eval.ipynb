{
 "cells": [
  {
   "cell_type": "code",
   "execution_count": 1,
   "metadata": {},
   "outputs": [],
   "source": [
    "import numpy as np"
   ]
  },
  {
   "cell_type": "code",
   "execution_count": 7,
   "metadata": {},
   "outputs": [],
   "source": [
    "# str1=str(input(\"Please Enter a string: \"))\n",
    "str1=\"DeveLopMent of EffecTive StrateGIES\""
   ]
  },
  {
   "cell_type": "code",
   "execution_count": 13,
   "metadata": {},
   "outputs": [
    {
     "data": {
      "text/plain": [
       "array(['D', 'e', 'v', 'e', 'L', 'o', 'p', 'M', 'e', 'n', 't', 'o', 'f',\n",
       "       'E', 'f', 'f', 'e', 'c', 'T', 'i', 'v', 'e', 'S', 't', 'r', 'a',\n",
       "       't', 'e', 'G', 'I', 'E', 'S'], dtype='<U1')"
      ]
     },
     "execution_count": 13,
     "metadata": {},
     "output_type": "execute_result"
    }
   ],
   "source": [
    "list_of_char=np.array([i for i in str1 if i!=' '])\n",
    "list_of_char"
   ]
  },
  {
   "cell_type": "code",
   "execution_count": 20,
   "metadata": {},
   "outputs": [],
   "source": [
    "uniq_ele=np.unique(list_of_char)\n",
    "upper=[i for i in uniq_ele if i.isupper()==True]\n",
    "lower=[i for i in uniq_ele if i.islower()==True]"
   ]
  },
  {
   "cell_type": "code",
   "execution_count": 23,
   "metadata": {},
   "outputs": [
    {
     "name": "stdout",
     "output_type": "stream",
     "text": [
      "Upper Case:  ['D', 'E', 'G', 'I', 'L', 'M', 'S', 'T']\n",
      "Lower Case ['a', 'c', 'e', 'f', 'i', 'n', 'o', 'p', 'r', 't', 'v']\n"
     ]
    }
   ],
   "source": [
    "print(\"Upper Case: \",upper)\n",
    "print(\"Lower Case\",lower)"
   ]
  },
  {
   "cell_type": "code",
   "execution_count": 24,
   "metadata": {},
   "outputs": [],
   "source": [
    "# Question 2"
   ]
  },
  {
   "cell_type": "code",
   "execution_count": 40,
   "metadata": {},
   "outputs": [
    {
     "name": "stdout",
     "output_type": "stream",
     "text": [
      "Word: can-6\n",
      "Alphabet: a-11\n"
     ]
    }
   ],
   "source": [
    "str2=\"can you can a can as a canner can can a can\"\n",
    "list_of_words=str2.split()\n",
    "uniq_words,count_words=np.unique(list_of_words,return_counts=True)\n",
    "dict_list_of_words=dict(zip(uniq_words,count_words))\n",
    "sorted_words=list(dict_list_of_words.items())\n",
    "sorted_words.sort(key=lambda x:x[1],reverse=True)\n",
    "most_freq_word=sorted_words[0]\n",
    "print(\"Word: \",most_freq_word[0],\"-\",most_freq_word[1],sep=\"\")\n",
    "\n",
    "# Second Part\n",
    "list_of_char=np.array([i for i in str2 if i!=' '])\n",
    "uniq_char,count_char=np.unique(list_of_char,return_counts=True)\n",
    "dict_list_of_char=dict(zip(uniq_char,count_char))\n",
    "sorted_char=list(dict_list_of_char.items())\n",
    "sorted_char.sort(key=lambda x:x[1],reverse=True)\n",
    "most_freq_char=sorted_char[0]\n",
    "print(\"Alphabet: \",most_freq_char[0],\"-\",most_freq_char[1],sep=\"\")"
   ]
  },
  {
   "cell_type": "code",
   "execution_count": 39,
   "metadata": {},
   "outputs": [
    {
     "name": "stdout",
     "output_type": "stream",
     "text": [
      "Alphabet: a-11\n"
     ]
    }
   ],
   "source": []
  },
  {
   "cell_type": "code",
   "execution_count": null,
   "metadata": {},
   "outputs": [],
   "source": []
  }
 ],
 "metadata": {
  "kernelspec": {
   "display_name": "Python 3 (ipykernel)",
   "language": "python",
   "name": "python3"
  },
  "language_info": {
   "codemirror_mode": {
    "name": "ipython",
    "version": 3
   },
   "file_extension": ".py",
   "mimetype": "text/x-python",
   "name": "python",
   "nbconvert_exporter": "python",
   "pygments_lexer": "ipython3",
   "version": "3.8.13"
  }
 },
 "nbformat": 4,
 "nbformat_minor": 2
}
